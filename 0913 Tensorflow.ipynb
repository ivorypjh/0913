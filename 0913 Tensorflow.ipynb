{
  "nbformat": 4,
  "nbformat_minor": 0,
  "metadata": {
    "colab": {
      "provenance": []
    },
    "kernelspec": {
      "name": "python3",
      "display_name": "Python 3"
    },
    "language_info": {
      "name": "python"
    }
  },
  "cells": [
    {
      "cell_type": "markdown",
      "source": [
        "# Tensorflow 설치"
      ],
      "metadata": {
        "id": "Aqgh25OxS_bk"
      }
    },
    {
      "cell_type": "code",
      "execution_count": null,
      "metadata": {
        "id": "FqLyU04pKBFS"
      },
      "outputs": [],
      "source": [
        "!pip install -U tensorflow\n",
        "# colab은 이미 설치되어 있으므로 필요 없음"
      ]
    },
    {
      "cell_type": "code",
      "source": [
        "import tensorflow as tf\n",
        "print('Tensorflow versio :', tf.__version__)"
      ],
      "metadata": {
        "colab": {
          "base_uri": "https://localhost:8080/"
        },
        "id": "-FHgsVtNSzOC",
        "outputId": "820efa6e-fb04-4785-f977-d8ccc8578231"
      },
      "execution_count": 1,
      "outputs": [
        {
          "output_type": "stream",
          "name": "stdout",
          "text": [
            "Tensorflow versio : 2.13.0\n"
          ]
        }
      ]
    },
    {
      "cell_type": "markdown",
      "source": [
        "## 텐서와 연산"
      ],
      "metadata": {
        "id": "o7M7mlCQXxIM"
      }
    },
    {
      "cell_type": "code",
      "source": [
        "# 스칼라 tensor 를 생성\n",
        "\n",
        "tensor1 = tf.constant(21)\n",
        "print(tensor1)\n",
        "\n",
        "# 배열을 가지고 tensor 를 생성\n",
        "\n",
        "tensor2 = tf.constant([[1, 2], [4, 6]])\n",
        "print(tensor2)"
      ],
      "metadata": {
        "colab": {
          "base_uri": "https://localhost:8080/"
        },
        "id": "yL8jr-NCSzWF",
        "outputId": "1de7cffe-8202-4c8a-a0b5-f16c65501b8e"
      },
      "execution_count": 3,
      "outputs": [
        {
          "output_type": "stream",
          "name": "stdout",
          "text": [
            "tf.Tensor(21, shape=(), dtype=int32)\n",
            "tf.Tensor(\n",
            "[[1 2]\n",
            " [4 6]], shape=(2, 2), dtype=int32)\n"
          ]
        }
      ]
    },
    {
      "cell_type": "code",
      "source": [
        "# tensor 의 인덱싱\n",
        "\n",
        "# 행은 전체, 열은 0번 이후 위치\n",
        "print(tensor2[:, 0:])\n",
        "# 첫번째 열만 선택해서 1차원 배열로 생성\n",
        "print(tensor2[:, 0])\n",
        "# 첫번째 열만 선택하고 다차원 배열로 생성\n",
        "print(tensor2[:, 0, tf.newaxis])\n",
        "# tf.newaxis 를 추가하면 차원이 하나 추가됨"
      ],
      "metadata": {
        "colab": {
          "base_uri": "https://localhost:8080/"
        },
        "id": "CEimxR8GYatm",
        "outputId": "4e4b860f-e42b-4172-a5b5-eed9d43b6288"
      },
      "execution_count": null,
      "outputs": [
        {
          "output_type": "stream",
          "name": "stdout",
          "text": [
            "tf.Tensor(\n",
            "[[1 2]\n",
            " [4 6]], shape=(2, 2), dtype=int32)\n",
            "tf.Tensor([1 4], shape=(2,), dtype=int32)\n",
            "tf.Tensor(\n",
            "[[1]\n",
            " [4]], shape=(2, 1), dtype=int32)\n"
          ]
        }
      ]
    },
    {
      "cell_type": "code",
      "source": [
        "# tensor의 연산\n",
        "\n",
        "print(tensor1 + 10)\n",
        "print(tensor2 + 10) # 배열과 broadcast 연산 수행\n",
        "print(tf.square(tensor2)) # 제곱 연산\n",
        "print(tensor2 @ tf.transpose(tensor2)) # 행렬의 곱"
      ],
      "metadata": {
        "colab": {
          "base_uri": "https://localhost:8080/"
        },
        "id": "0KwbzVHjYbgN",
        "outputId": "9013c16b-47e9-4ab5-f168-048889063899"
      },
      "execution_count": null,
      "outputs": [
        {
          "output_type": "stream",
          "name": "stdout",
          "text": [
            "tf.Tensor(31, shape=(), dtype=int32)\n",
            "tf.Tensor(\n",
            "[[11 12]\n",
            " [14 16]], shape=(2, 2), dtype=int32)\n",
            "tf.Tensor(\n",
            "[[ 1  4]\n",
            " [16 36]], shape=(2, 2), dtype=int32)\n",
            "tf.Tensor(\n",
            "[[ 5 16]\n",
            " [16 52]], shape=(2, 2), dtype=int32)\n"
          ]
        }
      ]
    },
    {
      "cell_type": "code",
      "source": [
        "from tensorflow import keras\n",
        "K = keras.backend\n",
        "K.square(K.transpose(tensor2)) + 10"
      ],
      "metadata": {
        "colab": {
          "base_uri": "https://localhost:8080/"
        },
        "id": "sKJThEx1Ybii",
        "outputId": "798e7843-4a72-4c84-9058-60dfee8cb69d"
      },
      "execution_count": 4,
      "outputs": [
        {
          "output_type": "execute_result",
          "data": {
            "text/plain": [
              "<tf.Tensor: shape=(2, 2), dtype=int32, numpy=\n",
              "array([[11, 26],\n",
              "       [14, 46]], dtype=int32)>"
            ]
          },
          "metadata": {},
          "execution_count": 4
        }
      ]
    },
    {
      "cell_type": "code",
      "source": [
        "import numpy as np\n",
        "ar = np.array([1, 2, 3,4 ])\n",
        "\n",
        "# numpy 의 데이터로 tensor 를 생성\n",
        "data = tf.constant(ar)\n",
        "print(data)\n",
        "\n",
        "# tensor 를 numpy 배열로 변경\n",
        "numpy_data = data.numpy()\n",
        "print(numpy_data)\n",
        "print(type(numpy_data))"
      ],
      "metadata": {
        "colab": {
          "base_uri": "https://localhost:8080/"
        },
        "id": "OSgkl5x0S0e3",
        "outputId": "8b6ec32c-5c07-4d26-f71d-59238c99bb90"
      },
      "execution_count": 5,
      "outputs": [
        {
          "output_type": "stream",
          "name": "stdout",
          "text": [
            "tf.Tensor([1 2 3 4], shape=(4,), dtype=int64)\n",
            "[1 2 3 4]\n",
            "<class 'numpy.ndarray'>\n"
          ]
        }
      ]
    },
    {
      "cell_type": "code",
      "source": [
        "# numpy 와 tensor 의 연산에 데이터의 공유가 가능\n",
        "\n",
        "# tensorflow 연산에 numpy 를 사용할 수 있고 반대도 마찬가지\n",
        "print(tf.square(ar))\n",
        "print(np.square(data))"
      ],
      "metadata": {
        "colab": {
          "base_uri": "https://localhost:8080/"
        },
        "id": "1boYxbm8SzY4",
        "outputId": "f2964c82-34e4-49e1-d376-ae16add1f100"
      },
      "execution_count": null,
      "outputs": [
        {
          "output_type": "stream",
          "name": "stdout",
          "text": [
            "tf.Tensor([ 1  4  9 16], shape=(4,), dtype=int64)\n",
            "[ 1  4  9 16]\n"
          ]
        }
      ]
    },
    {
      "cell_type": "code",
      "source": [
        "# 자료형이 달라서 에러가 발생\n",
        "\n",
        "try:\n",
        "    # int 와 float 사이에 자료형이 달라서 연산이 불가능\n",
        "    x = tf.constant(10) + tf.constant(3.14)\n",
        "except tf.errors.InvalidArgumentError as ex:\n",
        "    print(ex)"
      ],
      "metadata": {
        "colab": {
          "base_uri": "https://localhost:8080/"
        },
        "id": "s7PuYucSlsSa",
        "outputId": "8f1a71ae-ade2-416d-cbbc-c306560500cf"
      },
      "execution_count": null,
      "outputs": [
        {
          "output_type": "stream",
          "name": "stdout",
          "text": [
            "cannot compute AddV2 as input #1(zero-based) was expected to be a int32 tensor but is a float tensor [Op:AddV2] name: \n"
          ]
        }
      ]
    },
    {
      "cell_type": "code",
      "source": [
        "try:\n",
        "    # int 와 float 사이에 자료형이 달라서 연산이 불가능\n",
        "    #x = tf.constant(10) + tf.constant(3.14)\n",
        "    print(tf.cast(tf.constant(10), tf.float32) + tf.constant(3.2))\n",
        "except tf.errors.InvalidArgumentError as ex:\n",
        "    print(ex)"
      ],
      "metadata": {
        "colab": {
          "base_uri": "https://localhost:8080/"
        },
        "id": "oMe5CF7olsbE",
        "outputId": "1ec16157-e1be-41cc-a3fb-6ad3944bd9e0"
      },
      "execution_count": null,
      "outputs": [
        {
          "output_type": "stream",
          "name": "stdout",
          "text": [
            "tf.Tensor(13.2, shape=(), dtype=float32)\n"
          ]
        }
      ]
    },
    {
      "cell_type": "code",
      "source": [
        "# Variable 을 이용해서 변수 생성\n",
        "var = tf.Variable([[1, 2], [3, 4]])\n",
        "print(var)\n",
        "# assign 을 사용해서 데이터 변경\n",
        "var.assign(var + 5)\n",
        "print(var)\n",
        "# 특정 위치만 데이터 변경\n",
        "var[0, 0].assign(10)\n",
        "print(var)"
      ],
      "metadata": {
        "colab": {
          "base_uri": "https://localhost:8080/"
        },
        "id": "uDtUsfDklsdm",
        "outputId": "e77d9ae5-f635-4c8e-efaa-7cd9929d6d2a"
      },
      "execution_count": null,
      "outputs": [
        {
          "output_type": "stream",
          "name": "stdout",
          "text": [
            "<tf.Variable 'Variable:0' shape=(2, 2) dtype=int32, numpy=\n",
            "array([[1, 2],\n",
            "       [3, 4]], dtype=int32)>\n",
            "<tf.Variable 'Variable:0' shape=(2, 2) dtype=int32, numpy=\n",
            "array([[6, 7],\n",
            "       [8, 9]], dtype=int32)>\n",
            "<tf.Variable 'Variable:0' shape=(2, 2) dtype=int32, numpy=\n",
            "array([[10,  7],\n",
            "       [ 8,  9]], dtype=int32)>\n"
          ]
        }
      ]
    },
    {
      "cell_type": "markdown",
      "source": [
        "## 문자열 Tensor"
      ],
      "metadata": {
        "id": "2pfL0t-T9KYF"
      }
    },
    {
      "cell_type": "code",
      "source": [
        "# 문자열 tensor\n",
        "# shape 를 갖지 않으며 encoding 된 상태로 저장\n",
        "# 기본 자료형\n",
        "tf.constant('오늘의 날씨')"
      ],
      "metadata": {
        "id": "DX-ZPq-Rlsf7",
        "colab": {
          "base_uri": "https://localhost:8080/"
        },
        "outputId": "f5b5d076-658e-41c7-9a85-42b16bdc7102"
      },
      "execution_count": 6,
      "outputs": [
        {
          "output_type": "execute_result",
          "data": {
            "text/plain": [
              "<tf.Tensor: shape=(), dtype=string, numpy=b'\\xec\\x98\\xa4\\xeb\\x8a\\x98\\xec\\x9d\\x98 \\xeb\\x82\\xa0\\xec\\x94\\xa8'>"
            ]
          },
          "metadata": {},
          "execution_count": 6
        }
      ]
    },
    {
      "cell_type": "code",
      "source": [
        "# TensorArray - 텐서의 배열\n",
        "\n",
        "# 데이터의 타입과 크기를 지정해야 함\n",
        "array = tf.TensorArray(dtype = tf.float32, size = 5)\n",
        "print(array)\n",
        "\n",
        "# write 함수를 이용해서 데이터를 생성하고 수정\n",
        "array = array.write(0, tf.constant(1.0))\n",
        "array = array.write(1, tf.constant(3.2))\n",
        "array = array.write(0, tf.constant(1.5))\n",
        "\n",
        "# array 의 데이터를 읽을 때는 read 함수에 인덱스를 사용해야 함\n",
        "print(array.read(0)) # 1.5"
      ],
      "metadata": {
        "colab": {
          "base_uri": "https://localhost:8080/"
        },
        "id": "8TrKdVf379cP",
        "outputId": "f2020e80-4905-499d-bb00-cc9d9d109971"
      },
      "execution_count": 11,
      "outputs": [
        {
          "output_type": "stream",
          "name": "stdout",
          "text": [
            "<tensorflow.python.ops.tensor_array_ops.TensorArray object at 0x7cca8851aa10>\n",
            "tf.Tensor(1.5, shape=(), dtype=float32)\n"
          ]
        }
      ]
    },
    {
      "cell_type": "code",
      "source": [
        "# Ragged Tensor\n",
        "# 각 배열의 길이가 달라도 되지만 자료형은 같아야 함\n",
        "\n",
        "ar = tf.ragged.constant([[1], [2, 3], [4, 5, 6]])\n",
        "print(ar)"
      ],
      "metadata": {
        "colab": {
          "base_uri": "https://localhost:8080/"
        },
        "id": "DWMFXIP379h9",
        "outputId": "022dfce1-833e-4412-adf2-038e31013ece"
      },
      "execution_count": 13,
      "outputs": [
        {
          "output_type": "stream",
          "name": "stdout",
          "text": [
            "<tf.RaggedTensor [[1], [2, 3], [4, 5, 6]]>\n"
          ]
        }
      ]
    },
    {
      "cell_type": "code",
      "source": [
        "# sparse tensor\n",
        "\n",
        "# 3행 4열의 행렬을 만들고\n",
        "# indices 로 지정한 위치에 values 의 데이터를 순서대로 배정\n",
        "# dense_shape 를 통해 행렬을 저장할 dense matrix 를 지정\n",
        "sp = tf.SparseTensor(indices = [[0, 1], [1, 1], [1, 3], [2, 2]],\n",
        "                     values = [1.0, 1.5, 3.2, 4.5],\n",
        "                     dense_shape = [3, 4])\n",
        "\n",
        "# to_dense 함수를 이용해서 sparse matrix인 데이터를 밀집 행렬로 표현\n",
        "print(tf.sparse.to_dense(sp))\n"
      ],
      "metadata": {
        "colab": {
          "base_uri": "https://localhost:8080/"
        },
        "id": "IS0VFn-079kP",
        "outputId": "99c856ee-92a2-4e6f-acbd-26beef4c7764"
      },
      "execution_count": 18,
      "outputs": [
        {
          "output_type": "stream",
          "name": "stdout",
          "text": [
            "tf.Tensor(\n",
            "[[0.  1.  0.  0. ]\n",
            " [0.  1.5 0.  3.2]\n",
            " [0.  0.  4.5 0. ]], shape=(3, 4), dtype=float32)\n"
          ]
        }
      ]
    },
    {
      "cell_type": "code",
      "source": [
        "# set\n",
        "\n",
        "set1 = tf.constant([[1, 2, 3, 2], [2, 3, 1, 4]])\n",
        "set2 = tf.constant([[1, 2, 3, 3], [2, 4, 1, 5]])\n",
        "\n",
        "# set 연산을 수행하면 희소 행렬 형태가 되므로\n",
        "# to_dense 를 사용해서 표현\n",
        "tf.sparse.to_dense(tf.sets.union(set1, set2))\n",
        "# set 연산을 수행하면 중복을 제거\n",
        "# 배열의 모양을 일치시키기 위해 0을 추가"
      ],
      "metadata": {
        "colab": {
          "base_uri": "https://localhost:8080/"
        },
        "id": "QIXjkcHNDNoU",
        "outputId": "0f50c2ba-02d9-4068-d946-939cd2ccb650"
      },
      "execution_count": 22,
      "outputs": [
        {
          "output_type": "execute_result",
          "data": {
            "text/plain": [
              "<tf.Tensor: shape=(2, 5), dtype=int32, numpy=\n",
              "array([[1, 2, 3, 0, 0],\n",
              "       [1, 2, 3, 4, 5]], dtype=int32)>"
            ]
          },
          "metadata": {},
          "execution_count": 22
        }
      ]
    },
    {
      "cell_type": "code",
      "source": [
        "# 데이터 노드 생성\n",
        "node1 = tf.constant(2.3)\n",
        "node2 = tf.constant(3.5)\n",
        "\n",
        "# 그래프 실행\n",
        "print(node1, node2)"
      ],
      "metadata": {
        "colab": {
          "base_uri": "https://localhost:8080/"
        },
        "id": "8KwsRHH3DN2P",
        "outputId": "7d417675-adbb-4eaa-a5ba-0d0355bbc2e3"
      },
      "execution_count": 23,
      "outputs": [
        {
          "output_type": "stream",
          "name": "stdout",
          "text": [
            "tf.Tensor(2.3, shape=(), dtype=float32) tf.Tensor(3.5, shape=(), dtype=float32)\n"
          ]
        }
      ]
    },
    {
      "cell_type": "code",
      "source": [
        "# 텐서플로우 코드 최적화가 가능하도록 작성\n",
        "\n",
        "# 최적화를 위해 @tf.function 를 사용\n",
        "# 결과는 동일하지만 중간 과정이 달라짐\n",
        "# tensor 로 변환해서 연산을 수행하기 때문\n",
        "@tf.function\n",
        "def tf_cube(data):\n",
        "  # 값의 변화가 없는 구문이므로 함수 호출 전에 전부 수행해버림\n",
        "  print(data)\n",
        "  # 텐서플로우 함수 호출 구문으로 변경되어서 실행\n",
        "  return data ** 3\n",
        "\n",
        "result = tf_cube(tf.constant(3.0))\n",
        "print(result)\n",
        "\n",
        "# 파이썬의 함수는 호출할 때 처리를 하지만\n",
        "# tensorflow 는 먼저 읽어서 최적화를 한 다음에 함수가 호출되면 필요한 부분을 처리"
      ],
      "metadata": {
        "colab": {
          "base_uri": "https://localhost:8080/"
        },
        "id": "0W3H7S-nDN41",
        "outputId": "3d9b6776-d8df-437d-c812-e3bd4d262322"
      },
      "execution_count": 28,
      "outputs": [
        {
          "output_type": "stream",
          "name": "stdout",
          "text": [
            "Tensor(\"data:0\", shape=(), dtype=float32)\n",
            "tf.Tensor(27.0, shape=(), dtype=float32)\n"
          ]
        }
      ]
    },
    {
      "cell_type": "code",
      "source": [
        "# 데이터를 랜덤하게 생성\n",
        "\n",
        "# 0 ~ 1 사이에서 랜덤하게 5개 데이터를 균등한 분포로\n",
        "rand = tf.random.uniform([5], 0, 1)\n",
        "print(rand)\n",
        "\n",
        "# 0 ~ 1 사이에서 랜덤하게 2행 5열 데이터를 균등한 분포로\n",
        "rand2 = tf.random.uniform([2, 5], 0, 1)\n",
        "print(rand2)\n",
        "\n",
        "# 5개의 난수 발생\n",
        "# 평균은 3.0, 표준편차는 1.0인 정규 분포에서\n",
        "nor = tf.random.normal([5], 3.0, 1.0)\n",
        "print(nor)"
      ],
      "metadata": {
        "colab": {
          "base_uri": "https://localhost:8080/"
        },
        "id": "E6ftv-JtWt0V",
        "outputId": "53f37b6e-08b0-41e3-d441-34e22a5b5c5e"
      },
      "execution_count": 33,
      "outputs": [
        {
          "output_type": "stream",
          "name": "stdout",
          "text": [
            "tf.Tensor([0.6357156  0.20514452 0.72203195 0.70116436 0.6194576 ], shape=(5,), dtype=float32)\n",
            "tf.Tensor(\n",
            "[[0.24477446 0.8708143  0.5907656  0.68229437 0.9608811 ]\n",
            " [0.4198494  0.9484148  0.79188514 0.7595192  0.82257223]], shape=(2, 5), dtype=float32)\n",
            "tf.Tensor([3.3826137 3.859873  2.2647958 3.6272798 3.666954 ], shape=(5,), dtype=float32)\n"
          ]
        }
      ]
    },
    {
      "cell_type": "markdown",
      "source": [
        "## 뉴런 생성"
      ],
      "metadata": {
        "id": "VxtCjLYXbcRJ"
      }
    },
    {
      "cell_type": "code",
      "source": [
        "# 활성화 함수 - sigmoid 함수\n",
        "import math\n",
        "\n",
        "def sigmoid(x):\n",
        "  return 1 / (1 + math.exp(-x))"
      ],
      "metadata": {
        "id": "_E-r8HcZWt8n"
      },
      "execution_count": 34,
      "outputs": []
    },
    {
      "cell_type": "code",
      "source": [
        "# 입력 값\n",
        "X = 1.0\n",
        "# target\n",
        "y = 0.0\n",
        "\n",
        "# 가중치를 랜덤하게 설정\n",
        "w = tf.random.normal([1], 0, 1)\n",
        "\n",
        "# 출력\n",
        "output = sigmoid(X * w)\n",
        "print('예측 값 :', output)"
      ],
      "metadata": {
        "colab": {
          "base_uri": "https://localhost:8080/"
        },
        "id": "d0d3s1VNWt_W",
        "outputId": "5a57a950-6c5e-4c7b-a04b-967ecfeaf7bf"
      },
      "execution_count": 35,
      "outputs": [
        {
          "output_type": "stream",
          "name": "stdout",
          "text": [
            "예측 값 : 0.6822630501300433\n"
          ]
        }
      ]
    },
    {
      "cell_type": "code",
      "source": [
        "# 경사 하강법\n",
        "\n",
        "# 1000 이 epoch\n",
        "for i in range(1000):\n",
        "  output = sigmoid(X * w)\n",
        "  error = y - output\n",
        "  # 학습률을 0.1로 설정\n",
        "  w = w + X * 0.1 * error\n",
        "\n",
        "  # 50번마다 확인\n",
        "  if i % 50 == 0:\n",
        "    print(i, output, error)\n"
      ],
      "metadata": {
        "colab": {
          "base_uri": "https://localhost:8080/"
        },
        "id": "fdIdojyoWuCH",
        "outputId": "d8529080-96e0-4c12-e6a6-67682b9296f7"
      },
      "execution_count": 37,
      "outputs": [
        {
          "output_type": "stream",
          "name": "stdout",
          "text": [
            "0 0.6822630501300433 -0.6822630501300433\n",
            "50 0.22202505140591564 -0.22202505140591564\n",
            "100 0.11436079872008159 -0.11436079872008159\n",
            "150 0.07517414845173018 -0.07517414845173018\n",
            "200 0.05557258437327877 -0.05557258437327877\n",
            "250 0.043938436448071064 -0.043938436448071064\n",
            "300 0.03627261743919787 -0.03627261743919787\n",
            "350 0.030854936027550586 -0.030854936027550586\n",
            "400 0.02682925019310826 -0.02682925019310826\n",
            "450 0.02372329695823802 -0.02372329695823802\n",
            "500 0.021255887099897668 -0.021255887099897668\n",
            "550 0.01924946224045666 -0.01924946224045666\n",
            "600 0.017586453726033374 -0.017586453726033374\n",
            "650 0.016186021438326523 -0.016186021438326523\n",
            "700 0.01499080382387332 -0.01499080382387332\n",
            "750 0.013958906322268441 -0.013958906322268441\n",
            "800 0.01305918259969475 -0.01305918259969475\n",
            "850 0.012267785191445505 -0.012267785191445505\n",
            "900 0.01156634553369373 -0.01156634553369373\n",
            "950 0.01094041788180252 -0.01094041788180252\n"
          ]
        }
      ]
    },
    {
      "cell_type": "code",
      "source": [
        "# 경사 하강법에 문제 발생 - X 가 0이라 가중치가 변하지 않음\n",
        "# 가중치만 사용하는 경우 input 이 0이면 가중치가 변하지 않는게 문제점\n",
        "\n",
        "X = 0\n",
        "y = 1\n",
        "w = tf.random.normal([1], 0, 1)\n",
        "\n",
        "for i in range(1000):\n",
        "  output = sigmoid(X * w)\n",
        "  error = y - output\n",
        "  # X 에 에러를 곱해서 가중치를 수정하는데\n",
        "  # X 가 0이므로 가중치가 변할 수 없음\n",
        "  w = w + X * 0.1 * error\n",
        "\n",
        "  if i % 50 == 0:\n",
        "    print(i, output, error)"
      ],
      "metadata": {
        "colab": {
          "base_uri": "https://localhost:8080/"
        },
        "id": "D0sIl6IYWuFC",
        "outputId": "106292a2-9251-4d8b-ac38-f0166311ef4b"
      },
      "execution_count": 41,
      "outputs": [
        {
          "output_type": "stream",
          "name": "stdout",
          "text": [
            "0 0.5 0.5\n",
            "50 0.5 0.5\n",
            "100 0.5 0.5\n",
            "150 0.5 0.5\n",
            "200 0.5 0.5\n",
            "250 0.5 0.5\n",
            "300 0.5 0.5\n",
            "350 0.5 0.5\n",
            "400 0.5 0.5\n",
            "450 0.5 0.5\n",
            "500 0.5 0.5\n",
            "550 0.5 0.5\n",
            "600 0.5 0.5\n",
            "650 0.5 0.5\n",
            "700 0.5 0.5\n",
            "750 0.5 0.5\n",
            "800 0.5 0.5\n",
            "850 0.5 0.5\n",
            "900 0.5 0.5\n",
            "950 0.5 0.5\n"
          ]
        }
      ]
    },
    {
      "cell_type": "code",
      "source": [
        "# 경사 하강법에 편향을 추가해서 문제 해결\n",
        "# input이 0이어도 학습을 수행\n",
        "\n",
        "X = 0\n",
        "y = 1\n",
        "w = tf.random.normal([1], 0, 1)\n",
        "# 편향 설정\n",
        "b = tf.random.normal([1], 0, 1)\n",
        "\n",
        "for i in range(1000):\n",
        "  output = sigmoid(X * w + b)\n",
        "  error = y - output\n",
        "  w = w + X * 0.1 * error\n",
        "  # bias 도 0으로 설정될 수 있으므로 지속적으로 수정 해줌\n",
        "  b = b + 1 * 0.1 * error\n",
        "\n",
        "  if i % 50 == 0:\n",
        "    print(i, output, error)"
      ],
      "metadata": {
        "colab": {
          "base_uri": "https://localhost:8080/"
        },
        "id": "p1XLMsCq79mc",
        "outputId": "b2d2d753-349d-4b2f-9e42-4cfaf6231170"
      },
      "execution_count": 42,
      "outputs": [
        {
          "output_type": "stream",
          "name": "stdout",
          "text": [
            "0 0.7656764142643964 0.23432358573560363\n",
            "50 0.8820002812341016 0.11799971876589843\n",
            "100 0.9232009404664779 0.07679905953352206\n",
            "150 0.9435258484038097 0.05647415159619029\n",
            "200 0.9554930225465634 0.04450697745343657\n",
            "250 0.9633377931745115 0.036662206825488486\n",
            "300 0.9688620967888664 0.031137903211133633\n",
            "350 0.9729562041768853 0.02704379582311467\n",
            "400 0.976108590327815 0.02389140967218495\n",
            "450 0.9786089238305713 0.021391076169428702\n",
            "500 0.9806395299707651 0.01936047002923491\n",
            "550 0.9823208145274276 0.017679185472572412\n",
            "600 0.9837353233711496 0.01626467662885045\n",
            "650 0.9849417138157364 0.015058286184263636\n",
            "700 0.9859825208921306 0.014017479107869435\n",
            "750 0.9868895794150685 0.013110420584931504\n",
            "800 0.9876869661881429 0.01231303381185711\n",
            "850 0.9883934026068276 0.01160659739317238\n",
            "900 0.9890235499728324 0.010976450027167628\n",
            "950 0.989589112003287 0.01041088799671297\n"
          ]
        }
      ]
    },
    {
      "cell_type": "code",
      "source": [
        "print(error)"
      ],
      "metadata": {
        "colab": {
          "base_uri": "https://localhost:8080/"
        },
        "id": "8QvbHR3v79on",
        "outputId": "10155bfb-e210-4d3b-fdbe-40ef06ed5dbe"
      },
      "execution_count": 44,
      "outputs": [
        {
          "output_type": "stream",
          "name": "stdout",
          "text": [
            "0.009910221026367072\n"
          ]
        }
      ]
    },
    {
      "cell_type": "code",
      "source": [
        "# AND 를 뉴런으로 구현\n",
        "# 입력과 출력만 수정하면 OR 도 구현 가능\n",
        "\n",
        "X = np.array([[0, 0], [0, 1], [1, 0], [1, 1]])\n",
        "y = np.array([[0], [0], [0], [1]])\n",
        "b = tf.random.normal([1], 0, 1)\n",
        "# 이번에는 입력이 2개이므로 가중치도 2개가 되어야 함\n",
        "w = tf.random.normal([2], 0, 1)\n",
        "\n",
        "for i in range(2000):\n",
        "  # 오차의 합계\n",
        "  error_sum = 0\n",
        "\n",
        "  # 모든 입력을 대입해서 수행해야 하므로 4번\n",
        "  for j in range(4):\n",
        "    output = sigmoid(np.sum(X[j] * w) + 1*b)\n",
        "    error = y[j][0] - output\n",
        "    w = w + X[j] * 0.1 * error\n",
        "    b = b + 1 * 0.1 * error\n",
        "    error_sum += error\n",
        "\n",
        "  if i % 100 == 0:\n",
        "    print(i, error_sum)"
      ],
      "metadata": {
        "colab": {
          "base_uri": "https://localhost:8080/"
        },
        "id": "reO4sRtXg33Q",
        "outputId": "e30402b7-f0ac-4bc6-f977-077d4f9c0607"
      },
      "execution_count": 50,
      "outputs": [
        {
          "output_type": "stream",
          "name": "stdout",
          "text": [
            "0 0.07970691932493523\n",
            "100 -0.14740814537086844\n",
            "200 -0.10073737112094117\n",
            "300 -0.07689759667553142\n",
            "400 -0.062172473428068475\n",
            "500 -0.05212933470514142\n",
            "600 -0.04483701561368156\n",
            "700 -0.03930499866354886\n",
            "800 -0.03496682421700348\n",
            "900 -0.03147670894317525\n",
            "1000 -0.028609472612023554\n",
            "1100 -0.02621317681733898\n",
            "1200 -0.024182178066849996\n",
            "1300 -0.022438334046988945\n",
            "1400 -0.020926112623579296\n",
            "1500 -0.019602010901439232\n",
            "1600 -0.018433545029231294\n",
            "1700 -0.01739552083443162\n",
            "1800 -0.0164667672877669\n",
            "1900 -0.01563088813083885\n"
          ]
        }
      ]
    },
    {
      "cell_type": "code",
      "source": [
        "# 모델을 fit(훈련) 한 결과를 가지고 predict\n",
        "# 00, 01, 10 일 때는 0, 11 일 때는 1 의 근사치가 나와야 함\n",
        "\n",
        "for i in range(4):\n",
        "  print('X :', X[i], 'y :', y[i])\n",
        "  print('Predict :', sigmoid(np.sum(X[i]*w) + b))"
      ],
      "metadata": {
        "colab": {
          "base_uri": "https://localhost:8080/"
        },
        "id": "0lpIp5p0g3_p",
        "outputId": "4792ff14-ddc0-4595-d238-412afe272711"
      },
      "execution_count": 51,
      "outputs": [
        {
          "output_type": "stream",
          "name": "stdout",
          "text": [
            "X : [0 0] y : [0]\n",
            "Predict : 2.3002669486883006e-05\n",
            "X : [0 1] y : [0]\n",
            "Predict : 0.024760307553547273\n",
            "X : [1 0] y : [0]\n",
            "Predict : 0.024835052972201455\n",
            "X : [1 1] y : [1]\n",
            "Predict : 0.965646214710535\n"
          ]
        }
      ]
    },
    {
      "cell_type": "code",
      "source": [
        "# OR 을 경사 하강법을 통해 구현\n",
        "# 나머지는 AND 와 동일하고 입력과 출력(X 와 y) 부분만 수정\n",
        "\n",
        "X = np.array([[0, 0], [0, 1], [1, 0], [1, 1]])\n",
        "y = np.array([[0], [1], [1], [1]])\n",
        "b = tf.random.normal([1], 0, 1)\n",
        "w = tf.random.normal([2], 0, 1)\n",
        "\n",
        "# 훈련 과정\n",
        "for i in range(2000):\n",
        "  error_sum = 0\n",
        "\n",
        "  for j in range(4):\n",
        "    output = sigmoid(np.sum(X[j] * w) + 1*b)\n",
        "    error = y[j][0] - output\n",
        "    w = w + X[j] * 0.1 * error\n",
        "    b = b + 1 * 0.1 * error\n",
        "    error_sum += error\n",
        "\n",
        "  if i % 100 == 0:\n",
        "    print(i, error_sum)"
      ],
      "metadata": {
        "colab": {
          "base_uri": "https://localhost:8080/"
        },
        "id": "Cbb7dMa0g4CG",
        "outputId": "af49355b-c011-4da3-e9a4-9f1df77230e8"
      },
      "execution_count": 52,
      "outputs": [
        {
          "output_type": "stream",
          "name": "stdout",
          "text": [
            "0 1.9336685099540443\n",
            "100 -0.10113886914842624\n",
            "200 -0.05308038832763559\n",
            "300 -0.035804659921112064\n",
            "400 -0.026916209252407147\n",
            "500 -0.02150826690360029\n",
            "600 -0.017879826513691646\n",
            "700 -0.0152819848585454\n",
            "800 -0.01333289313483875\n",
            "900 -0.011818388533519922\n",
            "1000 -0.01060875510619598\n",
            "1100 -0.009620835499703731\n",
            "1200 -0.008799100275134655\n",
            "1300 -0.008105435800825421\n",
            "1400 -0.007511991614363209\n",
            "1500 -0.006998710482600576\n",
            "1600 -0.006550184606683995\n",
            "1700 -0.0061551757279530855\n",
            "1800 -0.0058052318805129795\n",
            "1900 -0.005491855659200753\n"
          ]
        }
      ]
    },
    {
      "cell_type": "code",
      "source": [
        "# OR 에 대해 predict\n",
        "\n",
        "for i in range(4):\n",
        "  print('X :', X[i], 'y :', y[i])\n",
        "  print('Predict :', sigmoid(np.sum(X[i]*w) + b))"
      ],
      "metadata": {
        "colab": {
          "base_uri": "https://localhost:8080/"
        },
        "id": "XHPW5fWrg4Gw",
        "outputId": "3b19b344-2def-4b2d-c420-e09d68de9ec4"
      },
      "execution_count": 53,
      "outputs": [
        {
          "output_type": "stream",
          "name": "stdout",
          "text": [
            "X : [0 0] y : [0]\n",
            "Predict : 0.025842973381606706\n",
            "X : [0 1] y : [1]\n",
            "Predict : 0.9897146796369729\n",
            "X : [1 0] y : [1]\n",
            "Predict : 0.9896975504060317\n",
            "X : [1 1] y : [1]\n",
            "Predict : 0.9999971301601164\n"
          ]
        }
      ]
    },
    {
      "cell_type": "code",
      "source": [
        "# 뉴런을 1개 사용해서 XOR 을 구현\n",
        "\n",
        "X = np.array([[0, 0], [0, 1], [1, 0], [1, 1]])\n",
        "y = np.array([[0], [1], [1], [0]])\n",
        "b = tf.random.normal([1], 0, 1)\n",
        "w = tf.random.normal([2], 0, 1)\n",
        "\n",
        "# 훈련 과정\n",
        "for i in range(2001):\n",
        "  error_sum = 0\n",
        "\n",
        "  for j in range(4):\n",
        "    output = sigmoid(np.sum(X[j] * w) + 1*b)\n",
        "    error = y[j][0] - output\n",
        "    w = w + X[j] * 0.1 * error\n",
        "    b = b + 1 * 0.1 * error\n",
        "    error_sum += error\n",
        "\n",
        "  if i % 100 == 0:\n",
        "    print(i, error_sum)\n",
        "\n",
        "for i in range(4):\n",
        "  print('X :', X[i], 'y :', y[i])\n",
        "  print('Predict :', sigmoid(np.sum(X[i]*w) + b))"
      ],
      "metadata": {
        "colab": {
          "base_uri": "https://localhost:8080/"
        },
        "id": "66Vm1mdQg4JC",
        "outputId": "cd7cb814-5ef2-4251-ea55-074e58c24584"
      },
      "execution_count": 55,
      "outputs": [
        {
          "output_type": "stream",
          "name": "stdout",
          "text": [
            "0 1.3462333773965582\n",
            "100 -0.0008646440273877287\n",
            "200 -0.00017449620217013795\n",
            "300 -3.5197400656605815e-05\n",
            "400 -7.0854904141715025e-06\n",
            "500 -1.4286403157148797e-06\n",
            "600 -2.9875806850654385e-07\n",
            "700 -3.8159131521275924e-08\n",
            "800 -6.980329025907395e-08\n",
            "900 -6.980329025907395e-08\n",
            "1000 -6.980329025907395e-08\n",
            "1100 -6.980329025907395e-08\n",
            "1200 -6.980329025907395e-08\n",
            "1300 -6.980329025907395e-08\n",
            "1400 -6.980329025907395e-08\n",
            "1500 -6.980329025907395e-08\n",
            "1600 -6.980329025907395e-08\n",
            "1700 -6.980329025907395e-08\n",
            "1800 -6.980329025907395e-08\n",
            "1900 -6.980329025907395e-08\n",
            "2000 -6.980329025907395e-08\n",
            "X : [0 0] y : [0]\n",
            "Predict : 0.5128177040587629\n",
            "X : [0 1] y : [1]\n",
            "Predict : 0.5000000363215804\n",
            "X : [1 0] y : [1]\n",
            "Predict : 0.48718236853665897\n",
            "X : [1 1] y : [0]\n",
            "Predict : 0.4743815336379531\n"
          ]
        }
      ]
    },
    {
      "cell_type": "code",
      "source": [
        "# 값이 너무 작아서 input 을 제대로 반영하지 못함\n",
        "print('W :', w)\n",
        "print('Bias :', b)"
      ],
      "metadata": {
        "colab": {
          "base_uri": "https://localhost:8080/"
        },
        "id": "GljLnc2Xo-Pr",
        "outputId": "140a2add-e9af-4471-e020-6e858f470d45"
      },
      "execution_count": 57,
      "outputs": [
        {
          "output_type": "stream",
          "name": "stdout",
          "text": [
            "W : tf.Tensor([-0.10256381 -0.05128191], shape=(2,), dtype=float32)\n",
            "Bias : tf.Tensor([0.05128205], shape=(1,), dtype=float32)\n"
          ]
        }
      ]
    },
    {
      "cell_type": "code",
      "source": [
        "# 여러 개의 뉴런을 사용해서 XOR 을 구현\n",
        "\n",
        "# 가중치와 편향은 따로 지정하지 않음\n",
        "X = np.array([[0, 0], [0, 1], [1, 0], [1, 1]])\n",
        "y = np.array([[0], [1], [1], [0]])\n",
        "\n",
        "# 여러 layer 를 쌓는 모델을 제공\n",
        "# unit 은 각 layer 에 사용하는 뉴런의 갯수\n",
        "# 활성 함수는 activation 으로 지정\n",
        "model = tf.keras.Sequential([\n",
        "    tf.keras.layers.Dense(units = 2, activation = 'sigmoid',\n",
        "                          input_shape = (2, )),\n",
        "    tf.keras.layers.Dense(units = 1, activation = 'sigmoid')\n",
        "])\n",
        "\n",
        "# 모델은 컴파일이 필요\n",
        "# SGD(경사 하강법)를 사용하고 loss 함수로 mse 를 사용\n",
        "model.compile(optimizer = tf.keras.optimizers.SGD(lr = 0.1), loss = 'mse')\n",
        "\n",
        "model.summary()\n",
        "\n",
        "# 모델 훈련\n",
        "history = model.fit(X, y, epochs = 2000, batch_size = 1)\n",
        "\n",
        "# 예측\n",
        "model.predict(X)\n",
        "\n",
        "\n",
        "# 2000번 반복 결과 - loss 가 0.2993 에서 0.2491 로 감소\n",
        "# 2000번 반복으로는 결과가 이전과 별 차이가 없음\n",
        "'''\n",
        "array([[0.46576068],\n",
        "       [0.5146458 ],\n",
        "       [0.49633583],\n",
        "       [0.5363298 ]], dtype=float32)\n",
        "'''"
      ],
      "metadata": {
        "id": "LNXi11Fco-Y3"
      },
      "execution_count": null,
      "outputs": []
    }
  ]
}